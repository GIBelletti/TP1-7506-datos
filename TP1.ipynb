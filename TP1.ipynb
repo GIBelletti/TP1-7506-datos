{
 "cells": [
  {
   "cell_type": "markdown",
   "metadata": {
    "collapsed": true,
    "pycharm": {
     "name": "#%% md\n"
    }
   },
   "source": [
    "# 75.06/95.58 Organización de Datos\n",
    "# Primer Cuatrimestre de 2020\n",
    "# Trabajo Práctico 1: Enunciado\n",
    "\n",
    "El trabajo práctico 1 de la materia se basa en el análisis de los tweets del set de datos de la competencia: https://www.kaggle.com/c/nlp-getting-started.  \n",
    "\n",
    "- id - identificador unico para cada  tweet\n",
    "- text - el texto del tweet\n",
    "- location - ubicación desde donde fue enviado (podría no estar)\n",
    "- keyword - un keyword para el tweet  (podría faltar)\n",
    "- target - en train.csv, indica si se trata de un desastre real  (1) o no (0)\n",
    "\n",
    "El objetivo del primer TP es realizar un análisis exploratorio del set de datos. Queremos ver qué cosas podemos descubrir sobre los datos que puedan resultar interesantes. Estas cosas pueden estar relacionadas al objetivo del TP2 (predecir si un cierto tweet es real o no) o no, ambas son de interés.\n",
    "\n",
    "## Los requisitos de la primera entrega son los siguientes:\n",
    "\n",
    "- El análisis debe estar hecho en Python Pandas o R.\n",
    "- El análisis debe entregarse en formato pdf vía gradescope. En el informe no va código.\n",
    "- Informar el link a un repositorio Github en donde pueda bajarse el código completo para generar el análisis.\n",
    "\n",
    "## La evaluación del TP se realizará en base al siguiente criterio:\n",
    "\n",
    "- Originalidad del análisis exploratorio. \n",
    "- Calidad del reporte. ¿Está bien escrito? ¿Es claro y preciso? \n",
    "- Calidad del análisis exploratorio: qué tipo de preguntas se hacen y de qué forma se responden, ¿es la respuesta clara y concisa con respecto a la pregunta formulada? \n",
    "- Calidad de las visualizaciones presentadas.\n",
    "- ¿Tienen todos los ejes su rótulo?\n",
    "- ¿Tiene cada visualización un título?\n",
    "- ¿Es entendible la visualización sin tener que leer la explicación?\n",
    "- ¿El tipo de plot elegido es adecuado para lo que se quiere visualizar?\n",
    "- ¿Es una visualización interesante?\n",
    "- ¿El uso del color es adecuado?\n",
    "- ¿Hay un exceso o falta de elementos visuales en la visualización elegida?\n",
    "- ¿La visualización es consistente con los datos?\n",
    "- Conclusiones presentadas.\n",
    "- ¿Presenta el grupo un listado de \"insights\" aprendidos sobre los datos en base al análisis realizado? ¿Es interesante? \n",
    "\n",
    "\n",
    "El grupo que realice el mejor análisis exploratorio obtendrá 10 puntos para cada uno de sus integrantes que podrán ser usados en el parcial además de ser publicado en el repositorio de la materia como ejemplo para los siguientes cuatrimestres. \n",
    "\n"
   ]
  },
  {
   "cell_type": "code",
   "execution_count": 1,
   "outputs": [],
   "source": [
    "import pandas as pd\n",
    "import numpy as np\n",
    "import matplotlib.pyplot as plt\n",
    "import seaborn as sns\n",
    "\n",
    "%matplotlib inline\n",
    "\n",
    "plt.style.use('default')\n",
    "\n",
    "sns.set(style=\"whitegrid\")\n",
    "\n",
    "pd.options.display.float_format = '{:20,.2f}'.format \n",
    "\n",
    "import warnings\n",
    "warnings.filterwarnings('ignore')\n"
   ],
   "metadata": {
    "collapsed": false,
    "pycharm": {
     "name": "#%%\n",
     "is_executing": false
    }
   }
  },
  {
   "cell_type": "code",
   "execution_count": 36,
   "outputs": [
    {
     "name": "stdout",
     "text": [
      "<class 'pandas.core.frame.DataFrame'>\nInt64Index: 7613 entries, 1 to 10873\nData columns (total 4 columns):\n #   Column    Non-Null Count  Dtype \n---  ------    --------------  ----- \n 0   keyword   7552 non-null   object\n 1   location  5080 non-null   object\n 2   text      7613 non-null   object\n 3   target    7613 non-null   object\ndtypes: object(4)\nmemory usage: 297.4+ KB\n"
     ],
     "output_type": "stream"
    }
   ],
   "source": [
    "archivo_muestral = pd.read_csv('train.csv',index_col=['id'],dtype={'keyword':str,'location':str,'text':str,'target':str})\n",
    "archivo_muestral.info()"
   ],
   "metadata": {
    "collapsed": false,
    "pycharm": {
     "name": "#%%\n",
     "is_executing": false
    }
   }
  },
  {
   "cell_type": "code",
   "execution_count": 37,
   "outputs": [
    {
     "name": "stdout",
     "text": [
      "<class 'pandas.core.frame.DataFrame'>\nInt64Index: 7613 entries, 1 to 10873\nData columns (total 5 columns):\n #   Column    Non-Null Count  Dtype \n---  ------    --------------  ----- \n 0   keyword   7552 non-null   object\n 1   location  5080 non-null   object\n 2   text      7613 non-null   object\n 3   target    7613 non-null   object\n 4   longitud  7613 non-null   int64 \ndtypes: int64(1), object(4)\nmemory usage: 356.9+ KB\n"
     ],
     "output_type": "stream"
    }
   ],
   "source": [
    "archivo_muestral['longitud'] = archivo_muestral['text'].map(len)\n",
    "archivo_muestral.info()"
   ],
   "metadata": {
    "collapsed": false,
    "pycharm": {
     "name": "#%%\n",
     "is_executing": false
    }
   }
  },
  {
   "cell_type": "code",
   "execution_count": 38,
   "outputs": [
    {
     "name": "stdout",
     "text": [
      "<class 'pandas.core.frame.DataFrame'>\nInt64Index: 5080 entries, 48 to 10833\nData columns (total 5 columns):\n #   Column    Non-Null Count  Dtype \n---  ------    --------------  ----- \n 0   keyword   5080 non-null   object\n 1   location  5080 non-null   object\n 2   text      5080 non-null   object\n 3   target    5080 non-null   object\n 4   longitud  5080 non-null   int64 \ndtypes: int64(1), object(4)\nmemory usage: 238.1+ KB\n"
     ],
     "output_type": "stream"
    }
   ],
   "source": [
    "archivo_muestral_sin_nulos = archivo_muestral.dropna()\n",
    "archivo_muestral_sin_nulos.info()"
   ],
   "metadata": {
    "collapsed": false,
    "pycharm": {
     "name": "#%%\n",
     "is_executing": false
    }
   }
  },
  {
   "cell_type": "markdown",
   "source": [
    "## Introduccion\n",
    "\n",
    "El siguiente informe Reune los resultados y concluciones de analizar una serie de tweets de desastres que pueden ser\n",
    " verdaderos o no.\n",
    " \n",
    " Twitter se ha convertido en un importante canal de comunicación en tiempos de emergencia.\n",
    "La ubicuidad de los teléfonos inteligentes permite a las personas anunciar una emergencia que están observando en tiempo real. \n"
   ],
   "metadata": {
    "collapsed": false
   }
  },
  {
   "cell_type": "markdown",
   "source": [
    "### Analisis de teewts en relacion de verdaderos y falsos"
   ],
   "metadata": {
    "collapsed": false,
    "pycharm": {
     "name": "#%% md\n"
    }
   }
  },
  {
   "cell_type": "markdown",
   "source": [
    "#### Segun su localizacion"
   ],
   "metadata": {
    "collapsed": false
   }
  },
  {
   "cell_type": "code",
   "execution_count": 43,
   "outputs": [
    {
     "data": {
      "text/plain": "                       target                 longitud     \n                        count sum                 mean  sum\nlocation                                                   \n                            1   1                56.00   56\n  Glasgow                   1   0                70.00   70\n  Melbourne, Australia      1   0               131.00  131\n  News                      1   1               135.00  135\n  å_                        1   0                35.00   35\n...                       ...  ..                  ...  ...\nå_: ?? ÌÑ ? : ?             1   0                82.00   82\nå_å_Los Mina Cityã¢        1   0               136.00  136\nå¡å¡Midwest Û¢Û¢          1   0                52.00   52\nåÊ(?Û¢`?Û¢å«)??           1   0                33.00   33\nåø\\_(?)_/åø                 1   1               135.00  135\n\n[3341 rows x 4 columns]",
      "text/html": "<div>\n<style scoped>\n    .dataframe tbody tr th:only-of-type {\n        vertical-align: middle;\n    }\n\n    .dataframe tbody tr th {\n        vertical-align: top;\n    }\n\n    .dataframe thead tr th {\n        text-align: left;\n    }\n\n    .dataframe thead tr:last-of-type th {\n        text-align: right;\n    }\n</style>\n<table border=\"1\" class=\"dataframe\">\n  <thead>\n    <tr>\n      <th></th>\n      <th colspan=\"2\" halign=\"left\">target</th>\n      <th colspan=\"2\" halign=\"left\">longitud</th>\n    </tr>\n    <tr>\n      <th></th>\n      <th>count</th>\n      <th>sum</th>\n      <th>mean</th>\n      <th>sum</th>\n    </tr>\n    <tr>\n      <th>location</th>\n      <th></th>\n      <th></th>\n      <th></th>\n      <th></th>\n    </tr>\n  </thead>\n  <tbody>\n    <tr>\n      <th></th>\n      <td>1</td>\n      <td>1</td>\n      <td>56.00</td>\n      <td>56</td>\n    </tr>\n    <tr>\n      <th>Glasgow</th>\n      <td>1</td>\n      <td>0</td>\n      <td>70.00</td>\n      <td>70</td>\n    </tr>\n    <tr>\n      <th>Melbourne, Australia</th>\n      <td>1</td>\n      <td>0</td>\n      <td>131.00</td>\n      <td>131</td>\n    </tr>\n    <tr>\n      <th>News</th>\n      <td>1</td>\n      <td>1</td>\n      <td>135.00</td>\n      <td>135</td>\n    </tr>\n    <tr>\n      <th>å_</th>\n      <td>1</td>\n      <td>0</td>\n      <td>35.00</td>\n      <td>35</td>\n    </tr>\n    <tr>\n      <th>...</th>\n      <td>...</td>\n      <td>...</td>\n      <td>...</td>\n      <td>...</td>\n    </tr>\n    <tr>\n      <th>å_: ?? ÌÑ ? : ?</th>\n      <td>1</td>\n      <td>0</td>\n      <td>82.00</td>\n      <td>82</td>\n    </tr>\n    <tr>\n      <th>å_å_Los Mina Cityã¢</th>\n      <td>1</td>\n      <td>0</td>\n      <td>136.00</td>\n      <td>136</td>\n    </tr>\n    <tr>\n      <th>å¡å¡Midwest Û¢Û¢</th>\n      <td>1</td>\n      <td>0</td>\n      <td>52.00</td>\n      <td>52</td>\n    </tr>\n    <tr>\n      <th>åÊ(?Û¢`?Û¢å«)??</th>\n      <td>1</td>\n      <td>0</td>\n      <td>33.00</td>\n      <td>33</td>\n    </tr>\n    <tr>\n      <th>åø\\_(?)_/åø</th>\n      <td>1</td>\n      <td>1</td>\n      <td>135.00</td>\n      <td>135</td>\n    </tr>\n  </tbody>\n</table>\n<p>3341 rows × 4 columns</p>\n</div>"
     },
     "metadata": {},
     "output_type": "execute_result",
     "execution_count": 43
    }
   ],
   "source": [
    "grupo_por_localizacion = archivo_muestral_sin_nulos.groupby(['location']).agg({'target':['count','sum'],'longitud':['mean','sum']})\n",
    "grupo_por_localizacion"
   ],
   "metadata": {
    "collapsed": false,
    "pycharm": {
     "name": "#%%\n",
     "is_executing": false
    }
   }
  }
 ],
 "metadata": {
  "kernelspec": {
   "display_name": "Python 3",
   "language": "python",
   "name": "python3"
  },
  "language_info": {
   "codemirror_mode": {
    "name": "ipython",
    "version": 2
   },
   "file_extension": ".py",
   "mimetype": "text/x-python",
   "name": "python",
   "nbconvert_exporter": "python",
   "pygments_lexer": "ipython2",
   "version": "2.7.6"
  },
  "pycharm": {
   "stem_cell": {
    "cell_type": "raw",
    "source": [],
    "metadata": {
     "collapsed": false
    }
   }
  }
 },
 "nbformat": 4,
 "nbformat_minor": 0
}